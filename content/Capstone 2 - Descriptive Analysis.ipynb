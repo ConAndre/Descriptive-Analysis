{
 "cells": [
  {
   "cell_type": "code",
   "execution_count": null,
   "metadata": {},
   "outputs": [],
   "source": [
    "import piplite\n",
    "await piplite.install('seaborn')\n",
    "await piplite.install('Jinja2')\n",
    "import pandas as pd\n",
    "import numpy as np\n",
    "import matplotlib.pyplot as plt\n",
    "import seaborn as sns\n",
    "import scipy.stats as stats\n"
   ]
  },
  {
   "cell_type": "code",
   "execution_count": null,
   "metadata": {},
   "outputs": [],
   "source": [
    "df = pd.read_csv(\"Campaign Reports.csv\")"
   ]
  },
  {
   "cell_type": "code",
   "execution_count": null,
   "metadata": {},
   "outputs": [],
   "source": [
    "df.head()"
   ]
  },
  {
   "cell_type": "code",
   "execution_count": null,
   "metadata": {},
   "outputs": [],
   "source": [
    "df=df.drop(['id','Campaign title','Audience','Send Day','Total Revenue'], axis=1)\n",
    "df['Send Date'] = pd.to_datetime(df['Send Date'], format='%m/%d/%Y')\n",
    "df['Subject'] = df['Subject'].astype(str) \n",
    "\n",
    "df['Successful Deliveries'] = df['Total Recipients'] - df['Total Bounces']\n",
    "df['Open Rate'] = df['Unique Opens'] / df['Successful Deliveries']\n",
    "df['Click to Open Rate'] = df['Unique Clicks'] / df['Unique Opens']\n",
    "df['Length'] = df['Subject'].apply(len)\n",
    "df['No of Words'] = df['Subject'].apply(lambda x: len(x.split()))\n",
    "\n",
    "df['Day of Week']= df['Send Date'].dt.day_name() \n",
    "df['Month'] = df['Send Date'].dt.month\n",
    "df['Day'] = df['Send Date'].dt.day\n",
    "df['Year'] = df['Send Date'].dt.year"
   ]
  },
  {
   "cell_type": "code",
   "execution_count": null,
   "metadata": {},
   "outputs": [],
   "source": [
    "df.head()"
   ]
  },
  {
   "cell_type": "code",
   "execution_count": null,
   "metadata": {},
   "outputs": [],
   "source": [
    "plt.rcParams['figure.figsize'] = (15, 5)\n",
    "plt.style.use('fivethirtyeight')\n",
    "\n",
    "sns.distplot(df['Open Rate'], color = 'red')\n",
    "plt.title('Open Rate Distribution', fontsize = 20)\n",
    "plt.show()"
   ]
  },
  {
   "cell_type": "code",
   "execution_count": null,
   "metadata": {},
   "outputs": [],
   "source": [
    "df.groupby('Day of Week')[['Open Rate', 'Click Rate','Click to Open Rate']].agg('mean').plot(\n",
    "    kind='bar', figsize = (10,6), alpha=0.4, rot=0, cmap='copper');\n",
    "plt.title(\"MailChimp G&F Metrics vs. Industry\")\n",
    "\n",
    "#Open Rate Benchmarks:\n",
    "plt.scatter([-0.17,0.83,1.83,2.83,3.83,4.83,5.83],[0.216,0.22,0.205,0.203,0.217,0.218,0.218], c='black', marker='_');\n",
    "\n",
    "#Click Rate Benchmarks:\n",
    "plt.scatter([0,1,2,3,4,5,6], [0.022,0.023,0.021,0.021,0.023,0.024,0.023], c='brown', marker='_');\n",
    "\n",
    "#Click-to-open Rate Benchmarks:\n",
    "plt.scatter([0.17,1.17,2.17,3.17,4.17,5.17,6.17], [0.101, 0.106, 0.101, 0.101, 0.107,0.108,0.107], c='darkorange', marker='_');\n",
    "\n",
    "df.groupby('Day of Week', sort='false')['Send Date'].agg('count').plot(kind='barh', figsize=(16, 4), color = 'blue')\n",
    "plt.title(\"MailChimp G&F Newsletters Sent by Day\")\n",
    "plt.ylabel('')\n",
    "plt.xlabel('')\n",
    "plt.grid()\n",
    "plt.show()\n"
   ]
  },
  {
   "cell_type": "code",
   "execution_count": null,
   "metadata": {},
   "outputs": [],
   "source": [
    "df.groupby('Day of Week', sort='false')['Send Date'].agg('count')"
   ]
  },
  {
   "cell_type": "code",
   "execution_count": null,
   "metadata": {},
   "outputs": [],
   "source": [
    "plt.rcParams['figure.figsize'] = (15, 5)\n",
    "plt.style.use('fivethirtyeight')\n",
    "\n",
    "sns.lineplot(x=df['Month'], y=df['Open Rate'], color = 'red');\n",
    "plt.title('MailChimp Open Rate vs. Month', fontsize = 20)\n",
    "plt.show()"
   ]
  },
  {
   "cell_type": "code",
   "execution_count": null,
   "metadata": {},
   "outputs": [],
   "source": [
    "plt.rcParams['figure.figsize'] = (15, 5)\n",
    "plt.style.use('fivethirtyeight')\n",
    "\n",
    "sns.lineplot(x=df['Month'], y=df['Click Rate'], color = 'red');\n",
    "plt.title('MailChimp Click Rate vs. Month', fontsize = 20)\n",
    "plt.show()"
   ]
  },
  {
   "cell_type": "code",
   "execution_count": null,
   "metadata": {},
   "outputs": [],
   "source": [
    "plt.rcParams['figure.figsize'] = (15, 5)\n",
    "plt.style.use('fivethirtyeight')\n",
    "\n",
    "sns.lineplot(x=df['Day of Week'], y=df['Open Rate'], color = 'black');\n",
    "plt.title('MailChimp Open Rate vs. Day of the Week', fontsize = 20)\n",
    "plt.show()\n"
   ]
  },
  {
   "cell_type": "code",
   "execution_count": null,
   "metadata": {},
   "outputs": [],
   "source": [
    "\n",
    "plt.rcParams['figure.figsize'] = (15, 5)\n",
    "plt.style.use('fivethirtyeight')\n",
    "\n",
    "sns.lineplot(x=df['Day of Week'], y=df['Click Rate'], color = 'black')\n",
    "plt.title('MailChimp Click Rate vs. Day of the Week', fontsize = 20)\n",
    "plt.show()"
   ]
  },
  {
   "cell_type": "code",
   "execution_count": null,
   "metadata": {},
   "outputs": [],
   "source": [
    "plt.rcParams['figure.figsize'] = (15, 5)\n",
    "plt.style.use('fivethirtyeight')\n",
    "\n",
    "sns.scatterplot(x=df['Length'], y=df['Open Rate'], color = 'red')\n",
    "sns.lineplot(x=df['Length'], y=df['Open Rate'], color = 'black')\n",
    "plt.title('Open Rate vs Email Subject Line Length', fontsize = 20)\n",
    "plt.show()\n"
   ]
  },
  {
   "cell_type": "code",
   "execution_count": null,
   "metadata": {},
   "outputs": [],
   "source": [
    "df[['Subject','Open Rate', 'Length']].sort_values(['Open Rate'],ascending = False).style.background_gradient(cmap = 'bone')\n"
   ]
  },
  {
   "cell_type": "code",
   "execution_count": null,
   "metadata": {},
   "outputs": [],
   "source": [
    "plt.rcParams['figure.figsize'] = (15, 5)\n",
    "plt.style.use('fivethirtyeight')\n",
    "\n",
    "sns.scatterplot(x=df['No of Words'], y=df['Open Rate'], color = 'red')\n",
    "sns.lineplot(x=df['No of Words'], y=df['Open Rate'], color = 'black')\n",
    "plt.title('Open Rate vs to the Subject Line Number of Words', fontsize = 20)\n",
    "plt.show()"
   ]
  },
  {
   "cell_type": "code",
   "execution_count": null,
   "metadata": {},
   "outputs": [],
   "source": [
    "df[['Subject','Open Rate', 'No of Words']].sort_values(['Open Rate'],ascending = False).style.background_gradient(cmap = 'bone')\n"
   ]
  },
  {
   "cell_type": "code",
   "execution_count": null,
   "metadata": {},
   "outputs": [],
   "source": [
    "from sklearn.feature_extraction.text import CountVectorizer\n",
    "cv = CountVectorizer(stop_words = 'english')\n",
    "words = cv.fit_transform(df.Subject)\n",
    "sum_words = words.sum(axis=0)\n",
    "words_freq_x = [(word, sum_words[0, idx]) for word, idx in cv.vocabulary_.items()]\n",
    "words_freq_x = sorted(words_freq_x, key = lambda x: x[1], reverse = True)\n",
    "frequency = pd.DataFrame(words_freq_x, columns=['word', 'freq'])\n",
    "frequency.head(20)"
   ]
  },
  {
   "cell_type": "code",
   "execution_count": null,
   "metadata": {},
   "outputs": [],
   "source": [
    "plt.style.use('fivethirtyeight')\n",
    "color = plt.cm.Wistia(np.linspace(0, 1, 20))\n",
    "frequency.head(20).plot(x='word', y='freq', kind='bar', figsize=(16, 4), color = color)\n",
    "plt.title(\"Most Frequently Occurring Words in Email Subjects\")\n",
    "plt.ylabel('Count of the Words')\n",
    "plt.xlabel('Words from Email Subjects')\n",
    "plt.grid()\n",
    "plt.show()"
   ]
  }
 ],
 "metadata": {
  "kernelspec": {
   "display_name": "Python 3 (ipykernel)",
   "language": "python",
   "name": "python3"
  },
  "language_info": {
   "codemirror_mode": {
    "name": "ipython",
    "version": 3
   },
   "file_extension": ".py",
   "mimetype": "text/x-python",
   "name": "python",
   "nbconvert_exporter": "python",
   "pygments_lexer": "ipython3",
   "version": "3.8.8"
  },
  "vscode": {
   "interpreter": {
    "hash": "cc8e5058f68ae25fd0b682edbcb4bd875f373e41e844c915b7302617da639678"
   }
  }
 },
 "nbformat": 4,
 "nbformat_minor": 2
}
